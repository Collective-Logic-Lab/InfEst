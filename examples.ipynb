{
 "cells": [
  {
   "cell_type": "code",
   "execution_count": null,
   "id": "0572c144",
   "metadata": {},
   "outputs": [],
   "source": [
    "# examples.ipynb\n",
    "#\n",
    "# Bryan Daniels\n",
    "# 2023/10/27\n",
    "#\n",
    "# A few examples of using InfEst to estimate information measures from finite data."
   ]
  },
  {
   "cell_type": "markdown",
   "id": "ee96f5ae",
   "metadata": {},
   "source": [
    "# Estimate mutual information"
   ]
  },
  {
   "cell_type": "code",
   "execution_count": 1,
   "id": "723f125e",
   "metadata": {},
   "outputs": [],
   "source": [
    "import InfEst.mutualInfo as mi"
   ]
  },
  {
   "cell_type": "markdown",
   "id": "606d240b",
   "metadata": {},
   "source": [
    "The following fake data is basically random, so we expect to get a mutual information consistent with zero."
   ]
  },
  {
   "cell_type": "code",
   "execution_count": 2,
   "id": "4e6bb793",
   "metadata": {},
   "outputs": [],
   "source": [
    "# input data as list of values for different trials\n",
    "neuralData =     [0,2,1,3,2,4,5,4,3,2,1,2,4,3,2,1,1,2,3,3,2,1,0,2,3,4,3,3,2,3,2,1]\n",
    "behavioralData = [0,1,1,0,0,0,0,0,1,1,1,0,0,1,1,0,1,0,1,1,0,0,1,0,0,0,1,1,1,1,1,1]"
   ]
  },
  {
   "cell_type": "code",
   "execution_count": 3,
   "id": "bbb4d5c0",
   "metadata": {},
   "outputs": [],
   "source": [
    "neuralDataContainer = mi.discreteInfo(neuralData)\n",
    "behavioralDataContainer = mi.discreteInfo(behavioralData)"
   ]
  },
  {
   "cell_type": "code",
   "execution_count": 4,
   "id": "91d6cf4e",
   "metadata": {},
   "outputs": [
    {
     "name": "stdout",
     "output_type": "stream",
     "text": [
      "The estimated mutual information is 0.06803963301895477 bits.\n",
      "The estimated uncertainty of the joint entropy is 0.16826137809328526 bits.\n"
     ]
    }
   ],
   "source": [
    "# estimate mutual information and uncertainties using NSB method\n",
    "miNSB,sigmasNSB = mi.mutualInfo(neuralDataContainer,behavioralDataContainer,naive=False)\n",
    "\n",
    "print(\"The estimated mutual information is {} bits.\".format(miNSB))\n",
    "print(\"The estimated uncertainty of the joint entropy is {} bits.\".format(sigmasNSB[2]))"
   ]
  },
  {
   "cell_type": "code",
   "execution_count": 5,
   "id": "76372c19",
   "metadata": {},
   "outputs": [
    {
     "name": "stdout",
     "output_type": "stream",
     "text": [
      "The naive mutual information is 0.23506741255349883 bits.\n"
     ]
    }
   ],
   "source": [
    "# estimate mutual information using naive method that equates probabilities with frequencies\n",
    "# (the naive method does not compute uncertainties)\n",
    "miNaive,sigmasNaive = mi.mutualInfo(neuralDataContainer,behavioralDataContainer,naive=True)\n",
    "\n",
    "print(\"The naive mutual information is {} bits.\".format(miNaive))"
   ]
  },
  {
   "cell_type": "markdown",
   "id": "94b251bc",
   "metadata": {},
   "source": [
    "# Estimate synergy and simplified synergy"
   ]
  },
  {
   "cell_type": "code",
   "execution_count": 6,
   "id": "b7395202",
   "metadata": {},
   "outputs": [],
   "source": [
    "import InfEst.informationDecomposition as pid"
   ]
  },
  {
   "cell_type": "code",
   "execution_count": 7,
   "id": "479f684a",
   "metadata": {},
   "outputs": [],
   "source": [
    "# input data as list of values for different trials\n",
    "neuralDataA =     [2,3,3,1,0,3,1,4,3,3,3,2,2,1,0,2,3,2,3,4,5,4,3,2,1,2,3,3,2,1,3,3]\n",
    "neuralDataB =     [0,2,1,3,2,4,5,4,3,2,1,2,4,3,2,1,1,2,3,3,2,1,0,2,3,4,3,3,2,3,2,1]\n",
    "behavioralData =  [0,1,1,0,0,1,0,0,1,1,1,0,0,1,1,0,1,0,1,1,0,0,1,0,0,0,1,1,1,1,1,1]"
   ]
  },
  {
   "cell_type": "markdown",
   "id": "5b55c21d",
   "metadata": {},
   "source": [
    "`synergy_simplified` computes a simplified version of the synergistic information from the partial information decomposition.  This uses a version of the\n",
    "redundancy that assumes that the input that gives the minimum\n",
    "specific information is the same across all output states.  \n",
    "\n",
    "The implementation here uses the NSB method to estimate entropies, returning the mean estimated value and the NSB estimate of the uncertainty in the joint entropy.\n",
    "(Note that, while we expect this synergy to be non-negative, we can numerically get small negative values when the uncertainty is large.)"
   ]
  },
  {
   "cell_type": "code",
   "execution_count": 9,
   "id": "92d9bd63",
   "metadata": {},
   "outputs": [
    {
     "name": "stdout",
     "output_type": "stream",
     "text": [
      "The estimated synergy is -0.015354742552029066 bits.\n",
      "The uncertainty in the joint entropy is 0.344680639178302 bits.\n"
     ]
    }
   ],
   "source": [
    "synSimple,sigmaSynSimple = pid.synergy_simplified(behavioralData,neuralDataA,neuralDataB)\n",
    "\n",
    "print(\"The estimated simplified synergy is {} bits.\".format(synSimple))\n",
    "print(\"The uncertainty in the joint entropy is {} bits.\".format(sigmaSynSimple))"
   ]
  },
  {
   "cell_type": "markdown",
   "id": "474d05f8",
   "metadata": {},
   "source": [
    "With `naive=True`, the NSB method is not used, and instead probabilities are assumed to be equal to frequencies."
   ]
  },
  {
   "cell_type": "code",
   "execution_count": 10,
   "id": "cd4d8fc7",
   "metadata": {},
   "outputs": [
    {
     "name": "stdout",
     "output_type": "stream",
     "text": [
      "The naive simplified synergy is 0.1472826100686575 bits.\n"
     ]
    }
   ],
   "source": [
    "synSimpleNaive,sigmaSynSimpleNaive = pid.synergy_simplified(behavioralData,neuralDataA,neuralDataB,naive=True)\n",
    "\n",
    "print(\"The naive simplified synergy is {} bits.\".format(synSimpleNaive))"
   ]
  },
  {
   "cell_type": "markdown",
   "id": "907d1d74",
   "metadata": {},
   "source": [
    "We can compare to computing the full synergy using a naive method:"
   ]
  },
  {
   "cell_type": "code",
   "execution_count": 12,
   "id": "696a32e0",
   "metadata": {},
   "outputs": [
    {
     "name": "stdout",
     "output_type": "stream",
     "text": [
      "The naive synergy is 0.14728261006865706 bits.\n"
     ]
    }
   ],
   "source": [
    "synNaive,sigmaSynNaive = pid.synergy(behavioralData,neuralDataA,neuralDataB)\n",
    "\n",
    "print(\"The naive synergy is {} bits.\".format(synNaive))"
   ]
  },
  {
   "cell_type": "code",
   "execution_count": null,
   "id": "70dbb205",
   "metadata": {},
   "outputs": [],
   "source": []
  }
 ],
 "metadata": {
  "kernelspec": {
   "display_name": "Python 3 (ipykernel)",
   "language": "python",
   "name": "python3"
  },
  "language_info": {
   "codemirror_mode": {
    "name": "ipython",
    "version": 3
   },
   "file_extension": ".py",
   "mimetype": "text/x-python",
   "name": "python",
   "nbconvert_exporter": "python",
   "pygments_lexer": "ipython3",
   "version": "3.9.16"
  }
 },
 "nbformat": 4,
 "nbformat_minor": 5
}
